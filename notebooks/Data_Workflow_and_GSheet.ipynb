{
 "cells": [
  {
   "cell_type": "code",
   "execution_count": null,
   "metadata": {},
   "outputs": [],
   "source": [
    "%pip install requests beautifulsoup4 pandas urllib3   "
   ]
  },
  {
   "cell_type": "code",
   "execution_count": 1,
   "metadata": {},
   "outputs": [],
   "source": [
    "# Import required libraries\n",
    "import requests\n",
    "from bs4 import BeautifulSoup\n",
    "import xml.etree.ElementTree as ET\n",
    "import json\n",
    "import pandas as pd\n",
    "import os\n",
    "import urllib3\n",
    "from requests.adapters import HTTPAdapter\n",
    "from urllib3.util.ssl_ import create_urllib3_context"
   ]
  },
  {
   "cell_type": "code",
   "execution_count": 2,
   "metadata": {},
   "outputs": [],
   "source": [
    "# Import urllib3 if not already importe\n",
    "urllib3.disable_warnings(urllib3.exceptions.InsecureRequestWarning)\n",
    "\n",
    "# Create a custom adapter to handle SSL\n",
    "class CustomAdapter(HTTPAdapter):\n",
    "\tdef init_poolmanager(self, *args, **kwargs):\n",
    "\t\tcontext = create_urllib3_context()\n",
    "\t\tcontext.options |= 0x4  # Enable legacy renegotiation\n",
    "\t\tcontext.check_hostname = False\n",
    "\t\tkwargs['ssl_context'] = context\n",
    "\t\treturn super(CustomAdapter, self).init_poolmanager(*args, **kwargs)\n",
    "\n",
    "# Create a session with the custom adapter\n",
    "session = requests.Session()\n",
    "session.verify = False\n",
    "session.mount('https://', CustomAdapter())"
   ]
  },
  {
   "cell_type": "markdown",
   "metadata": {},
   "source": [
    "# ERLDC"
   ]
  },
  {
   "cell_type": "code",
   "execution_count": 3,
   "metadata": {},
   "outputs": [
    {
     "data": {
      "text/plain": [
       "{'StatId': 439167,\n",
       " 'Date': '050325',\n",
       " 'Time': '131134',\n",
       " 'Freq': '49.92',\n",
       " 'RevNo': '81',\n",
       " 'DemandMet': '21657.85156',\n",
       " 'DSMMet': '593.084351'}"
      ]
     },
     "execution_count": 3,
     "metadata": {},
     "output_type": "execute_result"
    }
   ],
   "source": [
    "# Define the URL for the ERLDC API\n",
    "erldc_api_url = \"https://app.erldc.in/api/LiveDataScheduler/Get/RegionStatistics\"\n",
    "\n",
    "# Send a GET request to the URL\n",
    "response_erldc = session.get(erldc_api_url)\n",
    "\n",
    "# Parse the response as JSON\n",
    "data_erldc = response_erldc.json()\n",
    "data_erldc"
   ]
  },
  {
   "cell_type": "code",
   "execution_count": 4,
   "metadata": {},
   "outputs": [
    {
     "data": {
      "application/vnd.microsoft.datawrangler.viewer.v0+json": {
       "columns": [
        {
         "name": "index",
         "rawType": "int64",
         "type": "integer"
        },
        {
         "name": "StatId",
         "rawType": "int64",
         "type": "integer"
        },
        {
         "name": "Date",
         "rawType": "object",
         "type": "string"
        },
        {
         "name": "Time",
         "rawType": "object",
         "type": "string"
        },
        {
         "name": "Freq",
         "rawType": "object",
         "type": "string"
        },
        {
         "name": "RevNo",
         "rawType": "object",
         "type": "string"
        },
        {
         "name": "DemandMet",
         "rawType": "object",
         "type": "string"
        },
        {
         "name": "DSMMet",
         "rawType": "object",
         "type": "string"
        }
       ],
       "conversionMethod": "pd.DataFrame",
       "ref": "835a44bc-5d71-4740-9cb4-064c93fdaa16",
       "rows": [
        [
         "0",
         "439167",
         "050325",
         "131134",
         "49.92",
         "81",
         "21657.85156",
         "593.084351"
        ]
       ],
       "shape": {
        "columns": 7,
        "rows": 1
       }
      },
      "text/html": [
       "<div>\n",
       "<style scoped>\n",
       "    .dataframe tbody tr th:only-of-type {\n",
       "        vertical-align: middle;\n",
       "    }\n",
       "\n",
       "    .dataframe tbody tr th {\n",
       "        vertical-align: top;\n",
       "    }\n",
       "\n",
       "    .dataframe thead th {\n",
       "        text-align: right;\n",
       "    }\n",
       "</style>\n",
       "<table border=\"1\" class=\"dataframe\">\n",
       "  <thead>\n",
       "    <tr style=\"text-align: right;\">\n",
       "      <th></th>\n",
       "      <th>StatId</th>\n",
       "      <th>Date</th>\n",
       "      <th>Time</th>\n",
       "      <th>Freq</th>\n",
       "      <th>RevNo</th>\n",
       "      <th>DemandMet</th>\n",
       "      <th>DSMMet</th>\n",
       "    </tr>\n",
       "  </thead>\n",
       "  <tbody>\n",
       "    <tr>\n",
       "      <th>0</th>\n",
       "      <td>439167</td>\n",
       "      <td>050325</td>\n",
       "      <td>131134</td>\n",
       "      <td>49.92</td>\n",
       "      <td>81</td>\n",
       "      <td>21657.85156</td>\n",
       "      <td>593.084351</td>\n",
       "    </tr>\n",
       "  </tbody>\n",
       "</table>\n",
       "</div>"
      ],
      "text/plain": [
       "   StatId    Date    Time   Freq RevNo    DemandMet      DSMMet\n",
       "0  439167  050325  131134  49.92    81  21657.85156  593.084351"
      ]
     },
     "execution_count": 4,
     "metadata": {},
     "output_type": "execute_result"
    }
   ],
   "source": [
    "# Convert the dictionary to a DataFrame by passing it as a list\n",
    "df_erldc = pd.DataFrame([data_erldc])\n",
    "# Alternatively, you could transpose the data to get keys as columns\n",
    "# df_erldc = pd.DataFrame.from_dict(data_erldc, orient='index').T\n",
    "df_erldc"
   ]
  },
  {
   "cell_type": "markdown",
   "metadata": {},
   "source": [
    "# SRLDC"
   ]
  },
  {
   "cell_type": "code",
   "execution_count": 5,
   "metadata": {},
   "outputs": [
    {
     "name": "stdout",
     "output_type": "stream",
     "text": [
      "<Response [200]>\n"
     ]
    }
   ],
   "source": [
    "# Define the URL f or the JSON API endpoint\n",
    "srldc_api_url = \"https://www.srldc.in/indexPageDataInEvery5min\"\n",
    "\n",
    "# Make a GET request to the JSON API endpoint using the existing session\n",
    "response_srldc = session.get(srldc_api_url)\n",
    "print(response_srldc)"
   ]
  },
  {
   "cell_type": "code",
   "execution_count": 6,
   "metadata": {},
   "outputs": [
    {
     "name": "stdout",
     "output_type": "stream",
     "text": [
      "{'allIndiaDemand': 200217.11,\n",
      " 'dsmRate': 454.07,\n",
      " 'dsmRateForIndex': 200217,\n",
      " 'frequency': 50.4,\n",
      " 'localDate': {'chronology': {'calendarType': 'iso8601', 'id': 'ISO'},\n",
      "               'dayOfMonth': 5,\n",
      "               'dayOfWeek': 'WEDNESDAY',\n",
      "               'dayOfYear': 64,\n",
      "               'era': 'CE',\n",
      "               'leapYear': False,\n",
      "               'month': 'MARCH',\n",
      "               'monthValue': 3,\n",
      "               'year': 2025},\n",
      " 'localDateForUpdate': 1741160940000,\n",
      " 'revisionNo': None,\n",
      " 'sRDemand': 66788.78,\n",
      " 'sRDemandForIndex': 66788}\n"
     ]
    }
   ],
   "source": [
    "# Import pprint\n",
    "from pprint import pprint\n",
    "\n",
    "# Parse the response as JSON\n",
    "data_srldc = response_srldc.json()\n",
    "# Print the response\n",
    "pprint(data_srldc)"
   ]
  },
  {
   "cell_type": "markdown",
   "metadata": {},
   "source": [
    "# NRLDC"
   ]
  },
  {
   "cell_type": "code",
   "execution_count": 7,
   "metadata": {},
   "outputs": [],
   "source": [
    "# Define the URL for the target website\n",
    "nrldc_url = \"https://newnr.nrldc.in/\"\n",
    "\n",
    "# Make a GET request to the target website\n",
    "response_nrldc = session.get(nrldc_url)"
   ]
  },
  {
   "cell_type": "code",
   "execution_count": 8,
   "metadata": {},
   "outputs": [
    {
     "name": "stdout",
     "output_type": "stream",
     "text": [
      "Frequency: 50.44 Hz\n",
      "All India Demand: 200735 MW\n",
      "NR Demand: 42914 MW\n",
      "Peak Demand Today: 58285 MW\n",
      "NR Generation: 57873 MW\n",
      "NR RE Generation: 26252 MW\n",
      "Current Sch Revision: 100\n",
      "Last Updated On: 05-03-25 13:15:00\n"
     ]
    }
   ],
   "source": [
    "soup_nrldc = BeautifulSoup(response_nrldc.text, 'html.parser')\n",
    "\n",
    "content_divs = soup_nrldc.find_all('div', class_='content')\n",
    "\n",
    "for content_div in content_divs:\n",
    "    h2 = content_div.find('h2', class_='m-0')\n",
    "    p = content_div.find('p')\n",
    "    if h2 and p:\n",
    "        print(f\"{h2.text}: {p.text}\")"
   ]
  },
  {
   "cell_type": "markdown",
   "metadata": {},
   "source": [
    "# WRLDC"
   ]
  },
  {
   "cell_type": "code",
   "execution_count": 9,
   "metadata": {},
   "outputs": [
    {
     "data": {
      "text/plain": [
       "200"
      ]
     },
     "execution_count": 9,
     "metadata": {},
     "output_type": "execute_result"
    }
   ],
   "source": [
    "# Define the URL for the target website\n",
    "wrldc_url = \"https://wrldc.in/content/English/index.aspx\"\n",
    "\n",
    "# Make a GET request to the target website\n",
    "wrldc_response = session.get(wrldc_url, verify=False)\n",
    "wrldc_response.status_code"
   ]
  },
  {
   "cell_type": "code",
   "execution_count": 10,
   "metadata": {},
   "outputs": [
    {
     "name": "stdout",
     "output_type": "stream",
     "text": [
      "                                      label              value\n",
      "dataDateTime                      date time  05 Mar 2025 13:17\n",
      "dataDemand                           Demand              67917\n",
      "dataFrequency                     Frequency              50.45\n",
      "dataDeviationRate  Deviation Rate (Rs/Unit)                  0\n",
      "dataRenewable                     Renewable              23536\n",
      "dataRevision                   Revision nos                100\n"
     ]
    }
   ],
   "source": [
    "# Parse the response using BeautifulSoup\n",
    "wrldc_soup = BeautifulSoup(wrldc_response.text, 'html.parser')\n",
    "\n",
    "box_elements = wrldc_soup.find_all('div', class_='box')\n",
    "\n",
    "# Create a dictionary to store the results\n",
    "data_dict = {}\n",
    "\n",
    "# Loop through each box element\n",
    "for box in box_elements:\n",
    "    # Find the span and strong elements\n",
    "    span_text = box.find('span').text.strip()\n",
    "    strong_element = box.find('strong')\n",
    "    \n",
    "    # Get the ID and value\n",
    "    if strong_element:\n",
    "        data_id = strong_element.get('id')\n",
    "        data_value = strong_element.text.strip()\n",
    "        data_dict[data_id] = {\n",
    "            'label': span_text,\n",
    "            'value': data_value\n",
    "        }\n",
    "\n",
    "# Convert to DataFrame for better visualization\n",
    "import pandas as pd\n",
    "df = pd.DataFrame.from_dict(data_dict, orient='index')\n",
    "print(df)"
   ]
  },
  {
   "cell_type": "code",
   "execution_count": 11,
   "metadata": {},
   "outputs": [
    {
     "data": {
      "application/vnd.microsoft.datawrangler.viewer.v0+json": {
       "columns": [
        {
         "name": "index",
         "rawType": "object",
         "type": "string"
        },
        {
         "name": "label",
         "rawType": "object",
         "type": "string"
        },
        {
         "name": "value",
         "rawType": "object",
         "type": "string"
        }
       ],
       "conversionMethod": "pd.DataFrame",
       "ref": "b3de1096-3dc5-4bbd-ba23-2b4a0bcf815f",
       "rows": [
        [
         "dataDateTime",
         "date time",
         "05 Mar 2025 13:17"
        ],
        [
         "dataDemand",
         "Demand",
         "67917"
        ],
        [
         "dataFrequency",
         "Frequency",
         "50.45"
        ],
        [
         "dataDeviationRate",
         "Deviation Rate (Rs/Unit)",
         "0"
        ],
        [
         "dataRenewable",
         "Renewable",
         "23536"
        ],
        [
         "dataRevision",
         "Revision nos",
         "100"
        ]
       ],
       "shape": {
        "columns": 2,
        "rows": 6
       }
      },
      "text/html": [
       "<div>\n",
       "<style scoped>\n",
       "    .dataframe tbody tr th:only-of-type {\n",
       "        vertical-align: middle;\n",
       "    }\n",
       "\n",
       "    .dataframe tbody tr th {\n",
       "        vertical-align: top;\n",
       "    }\n",
       "\n",
       "    .dataframe thead th {\n",
       "        text-align: right;\n",
       "    }\n",
       "</style>\n",
       "<table border=\"1\" class=\"dataframe\">\n",
       "  <thead>\n",
       "    <tr style=\"text-align: right;\">\n",
       "      <th></th>\n",
       "      <th>label</th>\n",
       "      <th>value</th>\n",
       "    </tr>\n",
       "  </thead>\n",
       "  <tbody>\n",
       "    <tr>\n",
       "      <th>dataDateTime</th>\n",
       "      <td>date time</td>\n",
       "      <td>05 Mar 2025 13:17</td>\n",
       "    </tr>\n",
       "    <tr>\n",
       "      <th>dataDemand</th>\n",
       "      <td>Demand</td>\n",
       "      <td>67917</td>\n",
       "    </tr>\n",
       "    <tr>\n",
       "      <th>dataFrequency</th>\n",
       "      <td>Frequency</td>\n",
       "      <td>50.45</td>\n",
       "    </tr>\n",
       "    <tr>\n",
       "      <th>dataDeviationRate</th>\n",
       "      <td>Deviation Rate (Rs/Unit)</td>\n",
       "      <td>0</td>\n",
       "    </tr>\n",
       "    <tr>\n",
       "      <th>dataRenewable</th>\n",
       "      <td>Renewable</td>\n",
       "      <td>23536</td>\n",
       "    </tr>\n",
       "    <tr>\n",
       "      <th>dataRevision</th>\n",
       "      <td>Revision nos</td>\n",
       "      <td>100</td>\n",
       "    </tr>\n",
       "  </tbody>\n",
       "</table>\n",
       "</div>"
      ],
      "text/plain": [
       "                                      label              value\n",
       "dataDateTime                      date time  05 Mar 2025 13:17\n",
       "dataDemand                           Demand              67917\n",
       "dataFrequency                     Frequency              50.45\n",
       "dataDeviationRate  Deviation Rate (Rs/Unit)                  0\n",
       "dataRenewable                     Renewable              23536\n",
       "dataRevision                   Revision nos                100"
      ]
     },
     "execution_count": 11,
     "metadata": {},
     "output_type": "execute_result"
    }
   ],
   "source": [
    "df"
   ]
  },
  {
   "cell_type": "markdown",
   "metadata": {},
   "source": [
    "# Google sheet setup"
   ]
  },
  {
   "cell_type": "code",
   "execution_count": 13,
   "metadata": {},
   "outputs": [
    {
     "name": "stderr",
     "output_type": "stream",
     "text": [
      "\u001b[2mResolved \u001b[1m23 packages\u001b[0m \u001b[2min 613ms\u001b[0m\u001b[0m\n",
      "\u001b[2mPrepared \u001b[1m12 packages\u001b[0m \u001b[2min 487ms\u001b[0m\u001b[0m\n",
      "\u001b[1m\u001b[33mwarning\u001b[39m\u001b[0m\u001b[1m:\u001b[0m \u001b[1mFailed to hardlink files; falling back to full copy. This may lead to degraded performance.\n",
      "         If the cache and target directories are on different filesystems, hardlinking may not be supported.\n",
      "         If this is intentional, set `export UV_LINK_MODE=copy` or use `--link-mode=copy` to suppress this warning.\u001b[0m\n",
      "\u001b[2mInstalled \u001b[1m12 packages\u001b[0m \u001b[2min 579ms\u001b[0m\u001b[0m\n",
      " \u001b[32m+\u001b[39m \u001b[1mcachetools\u001b[0m\u001b[2m==5.5.2\u001b[0m\n",
      " \u001b[32m+\u001b[39m \u001b[1mgoogle-auth\u001b[0m\u001b[2m==2.38.0\u001b[0m\n",
      " \u001b[32m+\u001b[39m \u001b[1mgoogle-auth-oauthlib\u001b[0m\u001b[2m==1.2.1\u001b[0m\n",
      " \u001b[32m+\u001b[39m \u001b[1mgspread\u001b[0m\u001b[2m==6.2.0\u001b[0m\n",
      " \u001b[32m+\u001b[39m \u001b[1mhttplib2\u001b[0m\u001b[2m==0.22.0\u001b[0m\n",
      " \u001b[32m+\u001b[39m \u001b[1moauth2client\u001b[0m\u001b[2m==4.1.3\u001b[0m\n",
      " \u001b[32m+\u001b[39m \u001b[1moauthlib\u001b[0m\u001b[2m==3.2.2\u001b[0m\n",
      " \u001b[32m+\u001b[39m \u001b[1mpyasn1\u001b[0m\u001b[2m==0.6.1\u001b[0m\n",
      " \u001b[32m+\u001b[39m \u001b[1mpyasn1-modules\u001b[0m\u001b[2m==0.4.1\u001b[0m\n",
      " \u001b[32m+\u001b[39m \u001b[1mpyparsing\u001b[0m\u001b[2m==3.2.1\u001b[0m\n",
      " \u001b[32m+\u001b[39m \u001b[1mrequests-oauthlib\u001b[0m\u001b[2m==2.0.0\u001b[0m\n",
      " \u001b[32m+\u001b[39m \u001b[1mrsa\u001b[0m\u001b[2m==4.9\u001b[0m\n"
     ]
    }
   ],
   "source": [
    "!uv pip install gspread oauth2client pandas"
   ]
  },
  {
   "cell_type": "code",
   "execution_count": 19,
   "metadata": {},
   "outputs": [
    {
     "name": "stderr",
     "output_type": "stream",
     "text": [
      "\u001b[2mAudited \u001b[1m4 packages\u001b[0m \u001b[2min 66ms\u001b[0m\u001b[0m\n"
     ]
    }
   ],
   "source": [
    "!uv pip install google-api-python-client google-auth-httplib2 google-auth-oauthlib gspread"
   ]
  },
  {
   "cell_type": "code",
   "execution_count": null,
   "metadata": {},
   "outputs": [],
   "source": [
    "from oauth2client.service_account import ServiceAccountCredentials\n",
    "import requests\n",
    "from requests.adapters import HTTPAdapter\n",
    "from urllib3.util.ssl_ import create_urllib3_context\n",
    "import urllib3\n",
    "\n",
    "# Disable SSL warnings\n",
    "urllib3.disable_warnings(urllib3.exceptions.InsecureRequestWarning)\n",
    "\n",
    "# Custom Adapter to handle SSL\n",
    "class CustomAdapter(HTTPAdapter):\n",
    "    def init_poolmanager(self, *args, **kwargs):\n",
    "        context = create_urllib3_context()\n",
    "        context.options |= 0x4  # Enable legacy renegotiation\n",
    "        context.check_hostname = False\n",
    "        kwargs['ssl_context'] = context\n",
    "        return super(CustomAdapter, self).init_poolmanager(*args, **kwargs)\n",
    "\n",
    "# Create a session with the custom adapter\n",
    "session = requests.Session()\n",
    "session.verify = False\n",
    "session.mount('https://', CustomAdapter())\n",
    "\n",
    "# Fetch API Data\n",
    "srldc_api_url = \"https://www.srldc.in/indexPageDataInEvery5min\"\n",
    "response = session.get(srldc_api_url)\n",
    "data = response.json()"
   ]
  },
  {
   "cell_type": "code",
   "execution_count": null,
   "metadata": {},
   "outputs": [
    {
     "data": {
      "text/plain": [
       "str"
      ]
     },
     "execution_count": 47,
     "metadata": {},
     "output_type": "execute_result"
    }
   ],
   "source": [
    "type(response.text)\n",
    "response.text"
   ]
  },
  {
   "cell_type": "code",
   "execution_count": 42,
   "metadata": {},
   "outputs": [
    {
     "name": "stdout",
     "output_type": "stream",
     "text": [
      "{\"localDate\": {\"year\": 2025, \"month\": \"MARCH\", \"chronology\": {\"id\": \"ISO\", \"calendarType\": \"iso8601\"}, \"era\": \"CE\", \"leapYear\": false, \"dayOfMonth\": 5, \"monthValue\": 3, \"dayOfWeek\": \"WEDNESDAY\", \"dayOfYear\": 64}, \"localDateForUpdate\": 1741163220000, \"dsmRate\": 454.07, \"sRDemand\": 66082.8, \"allIndiaDemand\": 198882.64, \"frequency\": 50.0, \"revisionNo\": null, \"sRDemandForIndex\": 66082, \"dsmRateForIndex\": 198882}\n"
     ]
    }
   ],
   "source": [
    "response_json = json.dumps(response.json())\n",
    "print(response_json)"
   ]
  },
  {
   "cell_type": "code",
   "execution_count": 43,
   "metadata": {},
   "outputs": [
    {
     "data": {
      "text/plain": [
       "str"
      ]
     },
     "execution_count": 43,
     "metadata": {},
     "output_type": "execute_result"
    }
   ],
   "source": [
    "type(response_json)"
   ]
  },
  {
   "cell_type": "code",
   "execution_count": 40,
   "metadata": {},
   "outputs": [
    {
     "name": "stdout",
     "output_type": "stream",
     "text": [
      "{'allIndiaDemand': 198882.64,\n",
      " 'dsmRate': 454.07,\n",
      " 'dsmRateForIndex': 198882,\n",
      " 'frequency': 50.0,\n",
      " 'localDate': {'chronology': {'calendarType': 'iso8601', 'id': 'ISO'},\n",
      "               'dayOfMonth': 5,\n",
      "               'dayOfWeek': 'WEDNESDAY',\n",
      "               'dayOfYear': 64,\n",
      "               'era': 'CE',\n",
      "               'leapYear': False,\n",
      "               'month': 'MARCH',\n",
      "               'monthValue': 3,\n",
      "               'year': 2025},\n",
      " 'localDateForUpdate': 1741163220000,\n",
      " 'revisionNo': None,\n",
      " 'sRDemand': 66082.8,\n",
      " 'sRDemandForIndex': 66082}\n"
     ]
    }
   ],
   "source": [
    "pprint(data)"
   ]
  },
  {
   "cell_type": "code",
   "execution_count": 16,
   "metadata": {},
   "outputs": [
    {
     "name": "stdout",
     "output_type": "stream",
     "text": [
      "{'allIndiaDemand': 200118.92,\n",
      " 'dsmRate': 454.07,\n",
      " 'dsmRateForIndex': 200118,\n",
      " 'frequency': 50.38,\n",
      " 'revisionNo': None,\n",
      " 'sRDemand': 66746.0,\n",
      " 'sRDemandForIndex': 66746}\n"
     ]
    }
   ],
   "source": [
    "# Remove unwanted fields\n",
    "data.pop('localDate', None)\n",
    "data.pop('localDateForUpdate', None)\n",
    "\n",
    "pprint(data)"
   ]
  },
  {
   "cell_type": "code",
   "execution_count": 36,
   "metadata": {},
   "outputs": [
    {
     "data": {
      "text/plain": [
       "dict"
      ]
     },
     "execution_count": 36,
     "metadata": {},
     "output_type": "execute_result"
    }
   ],
   "source": [
    "type(data)"
   ]
  },
  {
   "cell_type": "code",
   "execution_count": 37,
   "metadata": {},
   "outputs": [
    {
     "ename": "AttributeError",
     "evalue": "'dict' object has no attribute 'json'",
     "output_type": "error",
     "traceback": [
      "\u001b[31m---------------------------------------------------------------------------\u001b[39m",
      "\u001b[31mAttributeError\u001b[39m                            Traceback (most recent call last)",
      "\u001b[36mCell\u001b[39m\u001b[36m \u001b[39m\u001b[32mIn[37]\u001b[39m\u001b[32m, line 1\u001b[39m\n\u001b[32m----> \u001b[39m\u001b[32m1\u001b[39m \u001b[43mdata\u001b[49m\u001b[43m.\u001b[49m\u001b[43mjson\u001b[49m()\n\u001b[32m      2\u001b[39m \u001b[38;5;28mtype\u001b[39m(data)\n",
      "\u001b[31mAttributeError\u001b[39m: 'dict' object has no attribute 'json'"
     ]
    }
   ],
   "source": [
    "data.json()\n",
    "type(data)"
   ]
  },
  {
   "cell_type": "code",
   "execution_count": 29,
   "metadata": {},
   "outputs": [],
   "source": [
    "import gspread\n",
    "from google.oauth2.service_account import Credentials\n",
    "\n",
    "# Define the scope\n",
    "scopes = [\n",
    "    'https://www.googleapis.com/auth/spreadsheets',\n",
    "]\n",
    "\n",
    "# Define the credentials\n",
    "credentials = Credentials.from_service_account_file(\n",
    "    'credentials.json',\n",
    "    scopes=scopes\n",
    ")\n",
    "\n",
    "# Create a client\n",
    "client = gspread.authorize(credentials)\n",
    "\n",
    "# Open the Google Sheet\n",
    "sheet_id = \"1VVpzD2BzF4FMqxVglStMc-6rO51onkdGT-hOLiJqv24\"\n",
    "\n",
    "workbook = client.open_by_key(sheet_id)"
   ]
  },
  {
   "cell_type": "code",
   "execution_count": 30,
   "metadata": {},
   "outputs": [
    {
     "data": {
      "text/plain": [
       "[<Worksheet 'Sheet1' id:0>, <Worksheet 'Sheet2' id:1831781442>]"
      ]
     },
     "execution_count": 30,
     "metadata": {},
     "output_type": "execute_result"
    }
   ],
   "source": [
    "sheets = workbook.worksheets()\n",
    "sheets"
   ]
  },
  {
   "cell_type": "code",
   "execution_count": 31,
   "metadata": {},
   "outputs": [
    {
     "data": {
      "text/plain": [
       "<Worksheet 'Sheet1' id:0>"
      ]
     },
     "execution_count": 31,
     "metadata": {},
     "output_type": "execute_result"
    }
   ],
   "source": [
    "sheet1 = workbook.worksheet('Sheet1')\n",
    "sheet1"
   ]
  },
  {
   "cell_type": "code",
   "execution_count": 33,
   "metadata": {},
   "outputs": [
    {
     "data": {
      "text/plain": [
       "<Worksheet 'Sheet2' id:1831781442>"
      ]
     },
     "execution_count": 33,
     "metadata": {},
     "output_type": "execute_result"
    }
   ],
   "source": [
    "sheet2 = workbook.worksheet('Sheet2')\n",
    "sheet2"
   ]
  },
  {
   "cell_type": "code",
   "execution_count": 34,
   "metadata": {},
   "outputs": [
    {
     "name": "stdout",
     "output_type": "stream",
     "text": [
      "Sheet1 updated successfully!\n"
     ]
    }
   ],
   "source": [
    "# Change the sheet1 by the output of the API\n",
    "sheet1.update([list(data.keys()), list(data.values())])\n",
    "print(\"Sheet1 updated successfully!\")"
   ]
  },
  {
   "cell_type": "code",
   "execution_count": null,
   "metadata": {},
   "outputs": [],
   "source": []
  }
 ],
 "metadata": {
  "kernelspec": {
   "display_name": ".venv",
   "language": "python",
   "name": "python3"
  },
  "language_info": {
   "codemirror_mode": {
    "name": "ipython",
    "version": 3
   },
   "file_extension": ".py",
   "mimetype": "text/x-python",
   "name": "python",
   "nbconvert_exporter": "python",
   "pygments_lexer": "ipython3",
   "version": "3.12.9"
  }
 },
 "nbformat": 4,
 "nbformat_minor": 2
}
